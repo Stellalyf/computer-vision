{
  "nbformat": 4,
  "nbformat_minor": 0,
  "metadata": {
    "colab": {
      "name": "p6_readdata.ipynb",
      "provenance": [],
      "authorship_tag": "ABX9TyPVy+6dta/aEaBY3+eqVHJn",
      "include_colab_link": true
    },
    "kernelspec": {
      "name": "python3",
      "display_name": "Python 3"
    },
    "language_info": {
      "name": "python"
    }
  },
  "cells": [
    {
      "cell_type": "markdown",
      "metadata": {
        "id": "view-in-github",
        "colab_type": "text"
      },
      "source": [
        "<a href=\"https://colab.research.google.com/github/Stellalyf/computer-vision/blob/main/p6_readdata.ipynb\" target=\"_parent\"><img src=\"https://colab.research.google.com/assets/colab-badge.svg\" alt=\"Open In Colab\"/></a>"
      ]
    },
    {
      "cell_type": "code",
      "source": [
        "from torch.utils.data import Dataset\n",
        "from PIL import Image\n",
        "\n",
        "class MyData(Dataset):\n",
        "\n",
        "  def __init__(self,root_dir, label_dir):\n",
        "    self.root_dir = root_dir\n",
        "    self.label_dir = label_dir\n",
        "    self.path = os.path.join(self.root_dir, self.label_dir)\n",
        "    self.img_path = os.listdir(self.path)\n",
        "\n",
        "  def __getitem__(self, idx):\n",
        "    img_name = self.img_path[idx]\n",
        "    img_item_path = os.path.join(self.root_dir, self.label_dir, img_name)\n",
        "    imag = Image.open(img_item_path)\n",
        "    label = self.label_dir\n",
        "    return img,label\n",
        "  \n",
        "  def __len__(self):\n",
        "    return len(self.img_path)\n"
      ],
      "metadata": {
        "id": "fUQlSAQGDr5W"
      },
      "execution_count": 12,
      "outputs": []
    },
    {
      "cell_type": "code",
      "source": [
        ""
      ],
      "metadata": {
        "id": "7rIEQDOkaSxE"
      },
      "execution_count": null,
      "outputs": []
    }
  ]
}