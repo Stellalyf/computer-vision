{
  "nbformat": 4,
  "nbformat_minor": 0,
  "metadata": {
    "colab": {
      "name": "P10p6.ipynb",
      "provenance": [],
      "authorship_tag": "ABX9TyPHj7Uag2RR3yopMWY81VGA",
      "include_colab_link": true
    },
    "kernelspec": {
      "name": "python3",
      "display_name": "Python 3"
    },
    "language_info": {
      "name": "python"
    }
  },
  "cells": [
    {
      "cell_type": "markdown",
      "metadata": {
        "id": "view-in-github",
        "colab_type": "text"
      },
      "source": [
        "<a href=\"https://colab.research.google.com/github/Stellalyf/computer-vision/blob/main/P10p6.ipynb\" target=\"_parent\"><img src=\"https://colab.research.google.com/assets/colab-badge.svg\" alt=\"Open In Colab\"/></a>"
      ]
    },
    {
      "cell_type": "markdown",
      "source": [
        "P6 read data"
      ],
      "metadata": {
        "id": "GHXKbog7g9tr"
      }
    },
    {
      "cell_type": "code",
      "source": [
        "from torch.utils.data import Dataset\n",
        "from PIL import Image\n",
        "\n",
        "class MyData(Dataset):\n",
        "\n",
        "  def __init__(self,root_dir, label_dir):\n",
        "    self.root_dir = root_dir\n",
        "    self.label_dir = label_dir\n",
        "    self.path = os.path.join(self.root_dir, self.label_dir)\n",
        "    self.img_path = os.listdir(self.path)\n",
        "\n",
        "  def __getitem__(self, idx):\n",
        "    img_name = self.img_path[idx]\n",
        "    img_item_path = os.path.join(self.root_dir, self.label_dir, img_name)\n",
        "    imag = Image.open(img_item_path)\n",
        "    label = self.label_dir\n",
        "    return img,label\n",
        "  \n",
        "  def __len__(self):\n",
        "    return len(self.img_path)\n"
      ],
      "metadata": {
        "id": "fUQlSAQGDr5W"
      },
      "execution_count": 12,
      "outputs": []
    },
    {
      "cell_type": "markdown",
      "source": [
        "P10 Transform "
      ],
      "metadata": {
        "id": "XkEMznUihHzq"
      }
    },
    {
      "cell_type": "code",
      "source": [
        "from torchivision import transfprms\n",
        "#how to use transforms \n",
        "#Tensor\n",
        "img_path = \n",
        "Image.open()\n",
        "\n",
        "write = Summarywriter(\"logs\")\n",
        "tensor_trans = transform.ToTensor(tensor_trans)\n",
        "tensor_img = tensor_trans(img)\n",
        "\n",
        "print(tensor_img)\n",
        "\n",
        "writer.add.image(\"Tensor_img\", tensor_img)\n",
        "write.close()"
      ],
      "metadata": {
        "colab": {
          "base_uri": "https://localhost:8080/",
          "height": 130
        },
        "id": "smiL5qeRkclJ",
        "outputId": "29a0001f-eb76-4499-8be6-3fa5c49f035d"
      },
      "execution_count": 14,
      "outputs": [
        {
          "output_type": "error",
          "ename": "SyntaxError",
          "evalue": "ignored",
          "traceback": [
            "\u001b[0;36m  File \u001b[0;32m\"<ipython-input-14-fdae0643cff1>\"\u001b[0;36m, line \u001b[0;32m4\u001b[0m\n\u001b[0;31m    img_path =\u001b[0m\n\u001b[0m               ^\u001b[0m\n\u001b[0;31mSyntaxError\u001b[0m\u001b[0;31m:\u001b[0m invalid syntax\n"
          ]
        }
      ]
    },
    {
      "cell_type": "code",
      "source": [
        ""
      ],
      "metadata": {
        "id": "mcGsbxj6p2Up"
      },
      "execution_count": null,
      "outputs": []
    }
  ]
}